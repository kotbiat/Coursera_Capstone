{
    "cells": [
        {
            "metadata": {
                "collapsed": true
            },
            "cell_type": "markdown",
            "source": "<h1>Coursera_Capstone Project to Predict Accident Severity</h1>"
        },
        {
            "metadata": {},
            "cell_type": "markdown",
            "source": "<h3>Introduction/Business Problem</h3>\nThe objective of this project is to predict severity of Traffic collisions, under (SEVERITYCODE) label. The study will provide insights to serve accident reduction expected under certain conditions. Audiences expected are (General population, Road Traffic engineers, Road traffic consultants)"
        },
        {
            "metadata": {},
            "cell_type": "markdown",
            "source": "<h3>Data section</h3>\nThe target Data to be predicted under (SEVERITYCODE) label.\n\nAttributes will be used to predict label:\n\n"
        },
        {
            "metadata": {},
            "cell_type": "code",
            "source": "",
            "execution_count": null,
            "outputs": []
        },
        {
            "metadata": {},
            "cell_type": "code",
            "source": "",
            "execution_count": null,
            "outputs": []
        },
        {
            "metadata": {},
            "cell_type": "code",
            "source": "",
            "execution_count": null,
            "outputs": []
        }
    ],
    "metadata": {
        "kernelspec": {
            "name": "python3",
            "display_name": "Python 3.6",
            "language": "python"
        },
        "language_info": {
            "name": "python",
            "version": "3.6.9",
            "mimetype": "text/x-python",
            "codemirror_mode": {
                "name": "ipython",
                "version": 3
            },
            "pygments_lexer": "ipython3",
            "nbconvert_exporter": "python",
            "file_extension": ".py"
        }
    },
    "nbformat": 4,
    "nbformat_minor": 1
}