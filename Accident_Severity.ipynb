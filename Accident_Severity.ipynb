{
    "cells": [
        {
            "metadata": {
                "collapsed": true
            },
            "cell_type": "markdown",
            "source": "<h1>Coursera_Capstone Project to Predict Accident Severity</h1>"
        },
        {
            "metadata": {},
            "cell_type": "markdown",
            "source": "<h3>Introduction/Business Problem</h3>\nThe objective of this project is to predict severity of Traffic collisions, under (SEVERITYCODE) label. The study will provide insights to serve accident reduction expected under certain conditions. Audiences expected are (General population, Road Traffic engineers, Road traffic consultants)"
        },
        {
            "metadata": {},
            "cell_type": "markdown",
            "source": "<h3>Data section</h3>\nThe target Data to be predicted under (SEVERITYCODE) label.\n\nAttributes will be used to predict label:\n\nADDRTYPE (Collision address type helps in identifying where most collisions occur)\nINTKEY (Key that corresponds to the intersection associated with a collision. helps identify where most intersection have most collisions)\nCOLLISIONTYPE (what most collision type involved in severity)\nPERSONCOUNT (The total number of people involved in the collision helps identify severity involed)\t\nPEDCOUNT (The number of pedestrians involved in the collision helps identify severity involed)\t\nPEDCYLCOUNT (The number of bicycles involved in the collision helps identify severity involed)\t\nVEHCOUNT (The number of vehicles involved in the collision identify severity involed)\nJUNCTIONTYPE (Category of junction at which collision took place helps identify where most collisions occur)\t\nINATTENTIONIND (Whether or not collision was due to inattention)\nUNDERINFL (Whether or not a driver involved was under the influence of drugs or alcohol to identify severity involved)\nWEATHER\t(contibutes to severity)\nROADCOND (contibutes to severity)\t\nLIGHTCOND (contibutes to severity)\t\nPEDROWNOTGRNT (contibutes to severity)\nSPEEDING (contibutes to severity)\t\nSEGLANEKEY (A key for the lane segment in which the collision occurred)\t\nCROSSWALKKEY (A key for the crosswalk at which the collision occurred)\t\nHITPARKEDCAR (Whether or not the collision involved hitting a parked car)\n"
        },
        {
            "metadata": {},
            "cell_type": "code",
            "source": "",
            "execution_count": null,
            "outputs": []
        },
        {
            "metadata": {},
            "cell_type": "code",
            "source": "",
            "execution_count": null,
            "outputs": []
        },
        {
            "metadata": {},
            "cell_type": "code",
            "source": "",
            "execution_count": null,
            "outputs": []
        }
    ],
    "metadata": {
        "kernelspec": {
            "name": "python3",
            "display_name": "Python 3.6",
            "language": "python"
        },
        "language_info": {
            "name": "python",
            "version": "3.6.9",
            "mimetype": "text/x-python",
            "codemirror_mode": {
                "name": "ipython",
                "version": 3
            },
            "pygments_lexer": "ipython3",
            "nbconvert_exporter": "python",
            "file_extension": ".py"
        }
    },
    "nbformat": 4,
    "nbformat_minor": 1
}