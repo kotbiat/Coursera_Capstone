{
    "cells": [
        {
            "metadata": {
                "collapsed": true
            },
            "cell_type": "markdown",
            "source": "<h1>Coursera_Capstone Project to Predict Accident Severity</h1>"
        },
        {
            "metadata": {},
            "cell_type": "markdown",
            "source": "<h3>Introduction/Business Problem</h3>\nThe objective of this project is to predict severity of Traffic collisions in terms of (human fatality, serious injury, injury, property damage, and others). The data set provided by COURSERA is collected and weekly-updated by Seatle SDOT Traffic Management Division. The study will provide insights to serve accident reduction expected under certain conditions. Audiences expected are (General population, Road Traffic engineers, Road traffic consultants)"
        },
        {
            "metadata": {},
            "cell_type": "markdown",
            "source": "<h3>Data section</h3>\nThe data set contains 194673 observations and 38 variables.\nOur target is to predict the level of severity caused by an accident under (SEVERITYCODE) label. Hence, (SEVERITYCODE) will be our dependent variable Y\nWe will use different combinations of remaining independent variables X to identify which factors lead to the level of severity caused by an accident.\n\nTo accomplish our target, we will need to pre-process our data set. first, by removing unrelated columns and handling missing values. Then, we select attributes that have more impact on (SEVERITYCODE) such as (ADDRTYPE, WEATHER, ROADCOND, LIGHTCOND...etc)\n\nA detailed description on attributes can be found under:\nhttps://s3.us.cloud-object-storage.appdomain.cloud/cf-courses-data/CognitiveClass/DP0701EN/version-2/Metadata.pdf\n",
            "attachments": {}
        },
        {
            "metadata": {},
            "cell_type": "code",
            "source": "",
            "execution_count": null,
            "outputs": []
        },
        {
            "metadata": {},
            "cell_type": "code",
            "source": "",
            "execution_count": null,
            "outputs": []
        },
        {
            "metadata": {},
            "cell_type": "code",
            "source": "",
            "execution_count": null,
            "outputs": []
        }
    ],
    "metadata": {
        "kernelspec": {
            "name": "python3",
            "display_name": "Python 3.6",
            "language": "python"
        },
        "language_info": {
            "name": "python",
            "version": "3.6.9",
            "mimetype": "text/x-python",
            "codemirror_mode": {
                "name": "ipython",
                "version": 3
            },
            "pygments_lexer": "ipython3",
            "nbconvert_exporter": "python",
            "file_extension": ".py"
        }
    },
    "nbformat": 4,
    "nbformat_minor": 1
}